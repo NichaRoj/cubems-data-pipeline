{
  "nbformat": 4,
  "nbformat_minor": 0,
  "metadata": {
    "colab": {
      "name": "get-weather-data.ipynb",
      "provenance": [],
      "collapsed_sections": [],
      "include_colab_link": true
    },
    "kernelspec": {
      "name": "python3",
      "display_name": "Python 3"
    }
  },
  "cells": [
    {
      "cell_type": "markdown",
      "metadata": {
        "id": "view-in-github",
        "colab_type": "text"
      },
      "source": [
        "<a href=\"https://colab.research.google.com/github/NichaRoj/cubems-data-pipeline/blob/master/get_weather_data.ipynb\" target=\"_parent\"><img src=\"https://colab.research.google.com/assets/colab-badge.svg\" alt=\"Open In Colab\"/></a>"
      ]
    },
    {
      "cell_type": "code",
      "metadata": {
        "id": "W5M8PSEiva95",
        "colab_type": "code",
        "outputId": "6967d348-8d01-47b1-8ccb-d19ef13d69f2",
        "colab": {
          "base_uri": "https://localhost:8080/",
          "height": 190
        }
      },
      "source": [
        "# load extension to measure execution time\n",
        "!pip install ipython-autotime\n",
        "%load_ext autotime"
      ],
      "execution_count": 1,
      "outputs": [
        {
          "output_type": "stream",
          "text": [
            "Collecting ipython-autotime\n",
            "  Downloading https://files.pythonhosted.org/packages/e6/f9/0626bbdb322e3a078d968e87e3b01341e7890544de891d0cb613641220e6/ipython-autotime-0.1.tar.bz2\n",
            "Building wheels for collected packages: ipython-autotime\n",
            "  Building wheel for ipython-autotime (setup.py) ... \u001b[?25l\u001b[?25hdone\n",
            "  Created wheel for ipython-autotime: filename=ipython_autotime-0.1-cp36-none-any.whl size=1832 sha256=f317b2150586c7e640142999bf865b481391f7ec2835923138440305224b9e3e\n",
            "  Stored in directory: /root/.cache/pip/wheels/d2/df/81/2db1e54bc91002cec40334629bc39cfa86dff540b304ebcd6e\n",
            "Successfully built ipython-autotime\n",
            "Installing collected packages: ipython-autotime\n",
            "Successfully installed ipython-autotime-0.1\n"
          ],
          "name": "stdout"
        }
      ]
    },
    {
      "cell_type": "markdown",
      "metadata": {
        "id": "vjn1x5e9oN7j",
        "colab_type": "text"
      },
      "source": [
        "## Import Weather Data\n",
        "Let's import weather data from `wunderground`"
      ]
    },
    {
      "cell_type": "code",
      "metadata": {
        "id": "YklChZgG86vr",
        "colab_type": "code",
        "outputId": "d79c21bd-738d-4584-cb8f-e2b206c1661a",
        "colab": {
          "base_uri": "https://localhost:8080/",
          "height": 88
        }
      },
      "source": [
        "import requests\n",
        "from datetime import date\n",
        "from datetime import timedelta\n",
        "from bs4 import BeautifulSoup\n",
        "import numpy as np\n",
        "import pandas as pd\n",
        "import matplotlib.pyplot as plt\n",
        "import seaborn as sns"
      ],
      "execution_count": 2,
      "outputs": [
        {
          "output_type": "stream",
          "text": [
            "time: 414 ms\n"
          ],
          "name": "stdout"
        },
        {
          "output_type": "stream",
          "text": [
            "/usr/local/lib/python3.6/dist-packages/statsmodels/tools/_testing.py:19: FutureWarning: pandas.util.testing is deprecated. Use the functions in the public API at pandas.testing instead.\n",
            "  import pandas.util.testing as tm\n"
          ],
          "name": "stderr"
        }
      ]
    },
    {
      "cell_type": "code",
      "metadata": {
        "id": "BR4Uy69nZ8NY",
        "colab_type": "code",
        "outputId": "5891a2f3-d41d-4bb6-c651-7b88a19e475c",
        "colab": {
          "base_uri": "https://localhost:8080/",
          "height": 51
        }
      },
      "source": [
        "# Specify date to pull data from\n",
        "f_date = date(2020, 4, 19)\n",
        "l_date = date(2020, 4, 23)\n",
        "date_diff = l_date - f_date\n",
        "print(date_diff)"
      ],
      "execution_count": 3,
      "outputs": [
        {
          "output_type": "stream",
          "text": [
            "4 days, 0:00:00\n",
            "time: 2.23 ms\n"
          ],
          "name": "stdout"
        }
      ]
    },
    {
      "cell_type": "code",
      "metadata": {
        "id": "ioTnAGVBiH2B",
        "colab_type": "code",
        "outputId": "4eb7e89b-4c9b-44d0-b2b6-afcf9f322d3d",
        "colab": {
          "base_uri": "https://localhost:8080/",
          "height": 34
        }
      },
      "source": [
        "# Link to retrieve data from\n",
        "url_template = 'https://www.wunderground.com/dashboard/pws/IBANGKOK26/table/{date}/{date}/daily'\n",
        "# Columns from web scraping\n",
        "column = ['Time','temp(degF)','dew(degF)','humidity(%)','Wind','windspeed(mph)','Gust','Pressure','Precip. Rate','Precip. Accum','UV','solar(w/m2)']\n",
        "# Create empty dataframe\n",
        "df = pd.DataFrame(columns=column)\n",
        "\n",
        "#df for storing date that has incomplete value or no value\n",
        "df_nodata = pd.DataFrame(columns=[\"Date\", \"Amount\"])\n",
        "\n",
        "# Loop to scrape data through specified days\n",
        "j = 0\n",
        "while j <= date_diff.days:\n",
        "  current_date = f_date + timedelta(days=j)\n",
        "  # Load website\n",
        "  url = url_template.format(date=current_date)\n",
        "  page = requests.get(url)\n",
        "  # Scrape data from website\n",
        "  soup = BeautifulSoup(page.content, \"html.parser\")\n",
        "  table = soup.find_all(\"table\", {\"class\": \"history-table desktop-table\"})\n",
        "  len_df = len(df.index)\n",
        "  try:\n",
        "    # Understand how many rows of data we have.\n",
        "    rows  = table[0].find_all('tr')\n",
        "  except:\n",
        "    # Execute if there is no weather data on this date\n",
        "    print(\"No weather data on {}\".format(current_date))\n",
        "    df_nodata = df_nodata.append(pd.Series(data=[current_date, 0], index=df_nodata.columns), ignore_index=True)\n",
        "    j += 1\n",
        "  else:\n",
        "    for i, row in enumerate(rows):\n",
        "      cols = row.find_all('td')\n",
        "      temp = []\n",
        "      for col in cols:\n",
        "        temp.append(col.text.strip())\n",
        "      if i == 0 or i == 1:\n",
        "        continue\n",
        "      # Change the time from crawl data from the web to date + time\n",
        "      temp[0] = \"{date} {time}\".format(date=current_date, time=temp[0])\n",
        "      df = df.append(pd.Series(temp, index=df.columns), ignore_index=True)\n",
        "\n",
        "    if len(df.index) - len_df != 288:\n",
        "      df_nodata = df_nodata.append(pd.Series(data=[current_date, len(df.index)-len_df], index=df_nodata.columns), ignore_index=True)\n",
        "    j += 1"
      ],
      "execution_count": 4,
      "outputs": [
        {
          "output_type": "stream",
          "text": [
            "time: 31 s\n"
          ],
          "name": "stdout"
        }
      ]
    },
    {
      "cell_type": "code",
      "metadata": {
        "id": "AR2tLmKkv-Ac",
        "colab_type": "code",
        "outputId": "227bc776-00f4-40d0-9b89-f624459d7e41",
        "colab": {
          "base_uri": "https://localhost:8080/",
          "height": 454
        }
      },
      "source": [
        "print('Scraped weather data')\n",
        "df.info()\n",
        "print('Dates that have no/incomplete data')\n",
        "df_nodata.head()"
      ],
      "execution_count": 5,
      "outputs": [
        {
          "output_type": "stream",
          "text": [
            "Scraped weather data\n",
            "<class 'pandas.core.frame.DataFrame'>\n",
            "RangeIndex: 1439 entries, 0 to 1438\n",
            "Data columns (total 12 columns):\n",
            " #   Column          Non-Null Count  Dtype \n",
            "---  ------          --------------  ----- \n",
            " 0   Time            1439 non-null   object\n",
            " 1   temp(degF)      1439 non-null   object\n",
            " 2   dew(degF)       1439 non-null   object\n",
            " 3   humidity(%)     1439 non-null   object\n",
            " 4   Wind            1439 non-null   object\n",
            " 5   windspeed(mph)  1439 non-null   object\n",
            " 6   Gust            1439 non-null   object\n",
            " 7   Pressure        1439 non-null   object\n",
            " 8   Precip. Rate    1439 non-null   object\n",
            " 9   Precip. Accum   1439 non-null   object\n",
            " 10  UV              1439 non-null   object\n",
            " 11  solar(w/m2)     1439 non-null   object\n",
            "dtypes: object(12)\n",
            "memory usage: 135.0+ KB\n",
            "Dates that have no/incomplete data\n"
          ],
          "name": "stdout"
        },
        {
          "output_type": "execute_result",
          "data": {
            "text/html": [
              "<div>\n",
              "<style scoped>\n",
              "    .dataframe tbody tr th:only-of-type {\n",
              "        vertical-align: middle;\n",
              "    }\n",
              "\n",
              "    .dataframe tbody tr th {\n",
              "        vertical-align: top;\n",
              "    }\n",
              "\n",
              "    .dataframe thead th {\n",
              "        text-align: right;\n",
              "    }\n",
              "</style>\n",
              "<table border=\"1\" class=\"dataframe\">\n",
              "  <thead>\n",
              "    <tr style=\"text-align: right;\">\n",
              "      <th></th>\n",
              "      <th>Date</th>\n",
              "      <th>Amount</th>\n",
              "    </tr>\n",
              "  </thead>\n",
              "  <tbody>\n",
              "    <tr>\n",
              "      <th>0</th>\n",
              "      <td>2020-04-21</td>\n",
              "      <td>287</td>\n",
              "    </tr>\n",
              "  </tbody>\n",
              "</table>\n",
              "</div>"
            ],
            "text/plain": [
              "         Date Amount\n",
              "0  2020-04-21    287"
            ]
          },
          "metadata": {
            "tags": []
          },
          "execution_count": 5
        },
        {
          "output_type": "stream",
          "text": [
            "time: 25.4 ms\n"
          ],
          "name": "stdout"
        }
      ]
    },
    {
      "cell_type": "markdown",
      "metadata": {
        "id": "de6El05GydTL",
        "colab_type": "text"
      },
      "source": [
        "After data has been imported, let's modify the dataframe to suit its purpose.\n",
        "\n",
        "Since scraped data are considered `string` (or `object` for pandas dtypes), they must be changed to appropriate dtypes. Index must be set appropriately as well."
      ]
    },
    {
      "cell_type": "code",
      "metadata": {
        "id": "Sw84zWt49Ot2",
        "colab_type": "code",
        "outputId": "91737880-7921-4cbc-b782-e1deb515c143",
        "colab": {
          "base_uri": "https://localhost:8080/",
          "height": 442
        }
      },
      "source": [
        "#Rearrange the format of each column\n",
        "df['temp(degF)'] = df['temp(degF)'].str.split(\"\\xa0\").str[0]\n",
        "df['dew(degF)'] = df['dew(degF)'].str.split(\"\\xa0\").str[0]\n",
        "df['humidity(%)'] = df['humidity(%)'].str.split(\"\\xa0\").str[0]\n",
        "df['windspeed(mph)']= df['windspeed(mph)'].str.split(\"\\xa0\").str[0]\n",
        "df['solar(w/m2)']=df['solar(w/m2)'].str.split(\" \").str[0]\n",
        "\n",
        "# Drop unnecessary columns\n",
        "df=df.drop(['Wind','Gust','Pressure','Precip. Rate','Precip. Accum','UV'], axis=1)\n",
        "\n",
        "#Change to appropriate dtypes\n",
        "df['Time']=pd.to_datetime(df['Time'])\n",
        "df['temp(degF)'] = pd.to_numeric(df['temp(degF)'])\n",
        "df['dew(degF)'] = pd.to_numeric(df['dew(degF)'])\n",
        "df['humidity(%)'] = pd.to_numeric(df['humidity(%)'])\n",
        "df['windspeed(mph)']= pd.to_numeric(df['windspeed(mph)'])\n",
        "df['solar(w/m2)']= pd.to_numeric(df['solar(w/m2)'])\n",
        "\n",
        "df.info()\n",
        "df.head()"
      ],
      "execution_count": 6,
      "outputs": [
        {
          "output_type": "stream",
          "text": [
            "<class 'pandas.core.frame.DataFrame'>\n",
            "RangeIndex: 1439 entries, 0 to 1438\n",
            "Data columns (total 6 columns):\n",
            " #   Column          Non-Null Count  Dtype         \n",
            "---  ------          --------------  -----         \n",
            " 0   Time            1439 non-null   datetime64[ns]\n",
            " 1   temp(degF)      1439 non-null   float64       \n",
            " 2   dew(degF)       1439 non-null   float64       \n",
            " 3   humidity(%)     1439 non-null   int64         \n",
            " 4   windspeed(mph)  1439 non-null   float64       \n",
            " 5   solar(w/m2)     1439 non-null   int64         \n",
            "dtypes: datetime64[ns](1), float64(3), int64(2)\n",
            "memory usage: 67.6 KB\n"
          ],
          "name": "stdout"
        },
        {
          "output_type": "execute_result",
          "data": {
            "text/html": [
              "<div>\n",
              "<style scoped>\n",
              "    .dataframe tbody tr th:only-of-type {\n",
              "        vertical-align: middle;\n",
              "    }\n",
              "\n",
              "    .dataframe tbody tr th {\n",
              "        vertical-align: top;\n",
              "    }\n",
              "\n",
              "    .dataframe thead th {\n",
              "        text-align: right;\n",
              "    }\n",
              "</style>\n",
              "<table border=\"1\" class=\"dataframe\">\n",
              "  <thead>\n",
              "    <tr style=\"text-align: right;\">\n",
              "      <th></th>\n",
              "      <th>Time</th>\n",
              "      <th>temp(degF)</th>\n",
              "      <th>dew(degF)</th>\n",
              "      <th>humidity(%)</th>\n",
              "      <th>windspeed(mph)</th>\n",
              "      <th>solar(w/m2)</th>\n",
              "    </tr>\n",
              "  </thead>\n",
              "  <tbody>\n",
              "    <tr>\n",
              "      <th>0</th>\n",
              "      <td>2020-04-19 00:00:00</td>\n",
              "      <td>85.8</td>\n",
              "      <td>79.7</td>\n",
              "      <td>82</td>\n",
              "      <td>0.0</td>\n",
              "      <td>0</td>\n",
              "    </tr>\n",
              "    <tr>\n",
              "      <th>1</th>\n",
              "      <td>2020-04-19 00:05:00</td>\n",
              "      <td>85.7</td>\n",
              "      <td>79.6</td>\n",
              "      <td>82</td>\n",
              "      <td>0.0</td>\n",
              "      <td>0</td>\n",
              "    </tr>\n",
              "    <tr>\n",
              "      <th>2</th>\n",
              "      <td>2020-04-19 00:10:00</td>\n",
              "      <td>85.7</td>\n",
              "      <td>79.6</td>\n",
              "      <td>82</td>\n",
              "      <td>0.0</td>\n",
              "      <td>0</td>\n",
              "    </tr>\n",
              "    <tr>\n",
              "      <th>3</th>\n",
              "      <td>2020-04-19 00:15:00</td>\n",
              "      <td>85.7</td>\n",
              "      <td>79.6</td>\n",
              "      <td>82</td>\n",
              "      <td>0.0</td>\n",
              "      <td>0</td>\n",
              "    </tr>\n",
              "    <tr>\n",
              "      <th>4</th>\n",
              "      <td>2020-04-19 00:20:00</td>\n",
              "      <td>85.7</td>\n",
              "      <td>79.6</td>\n",
              "      <td>82</td>\n",
              "      <td>0.0</td>\n",
              "      <td>0</td>\n",
              "    </tr>\n",
              "  </tbody>\n",
              "</table>\n",
              "</div>"
            ],
            "text/plain": [
              "                 Time  temp(degF)  ...  windspeed(mph)  solar(w/m2)\n",
              "0 2020-04-19 00:00:00        85.8  ...             0.0            0\n",
              "1 2020-04-19 00:05:00        85.7  ...             0.0            0\n",
              "2 2020-04-19 00:10:00        85.7  ...             0.0            0\n",
              "3 2020-04-19 00:15:00        85.7  ...             0.0            0\n",
              "4 2020-04-19 00:20:00        85.7  ...             0.0            0\n",
              "\n",
              "[5 rows x 6 columns]"
            ]
          },
          "metadata": {
            "tags": []
          },
          "execution_count": 6
        },
        {
          "output_type": "stream",
          "text": [
            "time: 213 ms\n"
          ],
          "name": "stdout"
        }
      ]
    },
    {
      "cell_type": "markdown",
      "metadata": {
        "id": "JqJFWgTxz_cL",
        "colab_type": "text"
      },
      "source": [
        "Since data in pipeline is collected every 15 minutes, we want the weather data to match that."
      ]
    },
    {
      "cell_type": "code",
      "metadata": {
        "id": "WJaUXGQKw-T2",
        "colab_type": "code",
        "outputId": "a4d396cd-f599-45c4-db4a-ab60e2f6d39e",
        "colab": {
          "base_uri": "https://localhost:8080/",
          "height": 442
        }
      },
      "source": [
        "# Set index to DateTime\n",
        "df_new = df.set_index('Time')\n",
        "# Create DatetimeIndex\n",
        "datetime_index = pd.date_range('{} 00:00:00'.format(f_date.strftime('%Y-%m-%d')), '{} 23:55:00'.format(l_date.strftime('%Y-%m-%d')), freq='5min')\n",
        "df_new = df_new.reindex(datetime_index)\n",
        "# Resample data to every 15 min\n",
        "df_fifteen = df_new.resample('15T').mean()\n",
        "df_fifteen.info()\n",
        "df_fifteen.head()"
      ],
      "execution_count": 7,
      "outputs": [
        {
          "output_type": "stream",
          "text": [
            "<class 'pandas.core.frame.DataFrame'>\n",
            "DatetimeIndex: 480 entries, 2020-04-19 00:00:00 to 2020-04-23 23:45:00\n",
            "Freq: 15T\n",
            "Data columns (total 5 columns):\n",
            " #   Column          Non-Null Count  Dtype  \n",
            "---  ------          --------------  -----  \n",
            " 0   temp(degF)      480 non-null    float64\n",
            " 1   dew(degF)       480 non-null    float64\n",
            " 2   humidity(%)     480 non-null    float64\n",
            " 3   windspeed(mph)  480 non-null    float64\n",
            " 4   solar(w/m2)     480 non-null    float64\n",
            "dtypes: float64(5)\n",
            "memory usage: 22.5 KB\n"
          ],
          "name": "stdout"
        },
        {
          "output_type": "execute_result",
          "data": {
            "text/html": [
              "<div>\n",
              "<style scoped>\n",
              "    .dataframe tbody tr th:only-of-type {\n",
              "        vertical-align: middle;\n",
              "    }\n",
              "\n",
              "    .dataframe tbody tr th {\n",
              "        vertical-align: top;\n",
              "    }\n",
              "\n",
              "    .dataframe thead th {\n",
              "        text-align: right;\n",
              "    }\n",
              "</style>\n",
              "<table border=\"1\" class=\"dataframe\">\n",
              "  <thead>\n",
              "    <tr style=\"text-align: right;\">\n",
              "      <th></th>\n",
              "      <th>temp(degF)</th>\n",
              "      <th>dew(degF)</th>\n",
              "      <th>humidity(%)</th>\n",
              "      <th>windspeed(mph)</th>\n",
              "      <th>solar(w/m2)</th>\n",
              "    </tr>\n",
              "  </thead>\n",
              "  <tbody>\n",
              "    <tr>\n",
              "      <th>2020-04-19 00:00:00</th>\n",
              "      <td>85.733333</td>\n",
              "      <td>79.633333</td>\n",
              "      <td>82.000000</td>\n",
              "      <td>0.0</td>\n",
              "      <td>0.0</td>\n",
              "    </tr>\n",
              "    <tr>\n",
              "      <th>2020-04-19 00:15:00</th>\n",
              "      <td>85.666667</td>\n",
              "      <td>79.566667</td>\n",
              "      <td>82.000000</td>\n",
              "      <td>0.0</td>\n",
              "      <td>0.0</td>\n",
              "    </tr>\n",
              "    <tr>\n",
              "      <th>2020-04-19 00:30:00</th>\n",
              "      <td>85.566667</td>\n",
              "      <td>79.466667</td>\n",
              "      <td>82.000000</td>\n",
              "      <td>0.0</td>\n",
              "      <td>0.0</td>\n",
              "    </tr>\n",
              "    <tr>\n",
              "      <th>2020-04-19 00:45:00</th>\n",
              "      <td>85.433333</td>\n",
              "      <td>79.433333</td>\n",
              "      <td>82.333333</td>\n",
              "      <td>0.0</td>\n",
              "      <td>0.0</td>\n",
              "    </tr>\n",
              "    <tr>\n",
              "      <th>2020-04-19 01:00:00</th>\n",
              "      <td>85.266667</td>\n",
              "      <td>79.266667</td>\n",
              "      <td>82.333333</td>\n",
              "      <td>0.0</td>\n",
              "      <td>0.0</td>\n",
              "    </tr>\n",
              "  </tbody>\n",
              "</table>\n",
              "</div>"
            ],
            "text/plain": [
              "                     temp(degF)  dew(degF)  ...  windspeed(mph)  solar(w/m2)\n",
              "2020-04-19 00:00:00   85.733333  79.633333  ...             0.0          0.0\n",
              "2020-04-19 00:15:00   85.666667  79.566667  ...             0.0          0.0\n",
              "2020-04-19 00:30:00   85.566667  79.466667  ...             0.0          0.0\n",
              "2020-04-19 00:45:00   85.433333  79.433333  ...             0.0          0.0\n",
              "2020-04-19 01:00:00   85.266667  79.266667  ...             0.0          0.0\n",
              "\n",
              "[5 rows x 5 columns]"
            ]
          },
          "metadata": {
            "tags": []
          },
          "execution_count": 7
        },
        {
          "output_type": "stream",
          "text": [
            "time: 53.8 ms\n"
          ],
          "name": "stdout"
        }
      ]
    },
    {
      "cell_type": "markdown",
      "metadata": {
        "id": "Ecme6zeNJoqb",
        "colab_type": "text"
      },
      "source": [
        "## Explore Data\n",
        "Let's explore data and see if there is any missing values."
      ]
    },
    {
      "cell_type": "code",
      "metadata": {
        "id": "SUt6NY5YAgR_",
        "colab_type": "code",
        "outputId": "b5e2ec42-9cfe-4d5e-87fe-c67f25fe7344",
        "colab": {
          "base_uri": "https://localhost:8080/",
          "height": 353
        }
      },
      "source": [
        "# The pink color indicates missing values\n",
        "num_ticks = date_diff.days + 1 # tick number for Y-axis\n",
        "date_range = pd.date_range(start=f_date, end=l_date).to_pydatetime().tolist()\n",
        "date_range = list(map(lambda x: x.strftime('%Y-%m-%d'), date_range))\n",
        "\n",
        "plt.figure(figsize = (10, 5))\n",
        "ax = sns.heatmap(df_fifteen.isnull(), cbar=False, yticklabels=date_range)\n",
        "ax.set_yticks(np.linspace(0, len(df_fifteen), num_ticks, dtype=np.int))\n",
        "ax.set_title('Weather missing values')\n",
        "plt.show()"
      ],
      "execution_count": 8,
      "outputs": [
        {
          "output_type": "display_data",
          "data": {
            "image/png": "[encoded data removed]",
            "text/plain": [
              "<Figure size 720x360 with 1 Axes>"
            ]
          },
          "metadata": {
            "tags": [],
            "needs_background": "light"
          }
        },
        {
          "output_type": "stream",
          "text": [
            "time: 330 ms\n"
          ],
          "name": "stdout"
        }
      ]
    },
    {
      "cell_type": "markdown",
      "metadata": {
        "id": "AmIpL9m0za_q",
        "colab_type": "text"
      },
      "source": [
        "Since there's no missing data in this case, no measures is taken. However, if there's missing data, they should be removed or replaced appropriately."
      ]
    },
    {
      "cell_type": "markdown",
      "metadata": {
        "id": "4jdUUhFl5_w1",
        "colab_type": "text"
      },
      "source": [
        "Next, let's try plotting some graphs."
      ]
    },
    {
      "cell_type": "code",
      "metadata": {
        "id": "BhQCF-2svBrj",
        "colab_type": "code",
        "colab": {
          "base_uri": "https://localhost:8080/",
          "height": 313
        },
        "outputId": "74ce3bf1-fa60-47b9-b1de-829617679100"
      },
      "source": [
        "# Plot the graph\n",
        "sns.lineplot(x='Time', y='temp(degF)', data=df)"
      ],
      "execution_count": 9,
      "outputs": [
        {
          "output_type": "execute_result",
          "data": {
            "text/plain": [
              "<matplotlib.axes._subplots.AxesSubplot at 0x7f697ac04f28>"
            ]
          },
          "metadata": {
            "tags": []
          },
          "execution_count": 9
        },
        {
          "output_type": "display_data",
          "data": {
            "image/png": "[encoded data removed]",
            "text/plain": [
              "<Figure size 432x288 with 1 Axes>"
            ]
          },
          "metadata": {
            "tags": [],
            "needs_background": "light"
          }
        },
        {
          "output_type": "stream",
          "text": [
            "time: 337 ms\n"
          ],
          "name": "stdout"
        }
      ]
    },
    {
      "cell_type": "markdown",
      "metadata": {
        "id": "UoB4sv7-9A5g",
        "colab_type": "text"
      },
      "source": [
        "Since we are not Americans, let's recalculate temperature to degree Celsius and plot the graph again."
      ]
    },
    {
      "cell_type": "code",
      "metadata": {
        "id": "5sZrQyCm8sDz",
        "colab_type": "code",
        "colab": {
          "base_uri": "https://localhost:8080/",
          "height": 313
        },
        "outputId": "30430641-839c-4d9d-d4c0-facd02c76406"
      },
      "source": [
        "# Calculate temperature in Celsius\n",
        "df['temp(degC)'] = df.apply(lambda row: (row['temp(degF)'] - 32)*5/9, axis=1)\n",
        "# Plot the graph\n",
        "sns.lineplot(x='Time', y='temp(degC)', data=df)"
      ],
      "execution_count": 12,
      "outputs": [
        {
          "output_type": "execute_result",
          "data": {
            "text/plain": [
              "<matplotlib.axes._subplots.AxesSubplot at 0x7f697cb4dba8>"
            ]
          },
          "metadata": {
            "tags": []
          },
          "execution_count": 12
        },
        {
          "output_type": "display_data",
          "data": {
            "image/png": "[encoded data removed]",
            "text/plain": [
              "<Figure size 432x288 with 1 Axes>"
            ]
          },
          "metadata": {
            "tags": [],
            "needs_background": "light"
          }
        },
        {
          "output_type": "stream",
          "text": [
            "time: 354 ms\n"
          ],
          "name": "stdout"
        }
      ]
    },
    {
      "cell_type": "code",
      "metadata": {
        "id": "IUJNy2bt9iCv",
        "colab_type": "code",
        "colab": {}
      },
      "source": [
        ""
      ],
      "execution_count": 0,
      "outputs": []
    }
  ]
}